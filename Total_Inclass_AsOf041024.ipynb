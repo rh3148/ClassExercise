{
 "cells": [
  {
   "cell_type": "code",
   "execution_count": 46,
   "id": "c5f624b5-8ad4-4ad4-bf5c-7fc55f6385c6",
   "metadata": {},
   "outputs": [
    {
     "name": "stdout",
     "output_type": "stream",
     "text": [
      "   Days    Temp(°F)  Pre-fit Model Values (°F)     Residual Times             BigX           \n",
      "    1         37     31.001682758506387       -5.998317241493613        57.060273972602744  \n",
      "    2         26     30.884645607718912       4.884645607718912        -22.795747160055978  \n",
      "    3         20     30.774754356889844       10.774754356889844       -6.8950233541244685  \n"
     ]
    },
    {
     "ename": "IndexError",
     "evalue": "index 3 is out of bounds for axis 0 with size 3",
     "output_type": "error",
     "traceback": [
      "\u001b[0;31m---------------------------------------------------------------------------\u001b[0m",
      "\u001b[0;31mIndexError\u001b[0m                                Traceback (most recent call last)",
      "Cell \u001b[0;32mIn[46], line 61\u001b[0m\n\u001b[1;32m     58\u001b[0m         func \u001b[38;5;241m=\u001b[39m \u001b[38;5;28mprint\u001b[39m(\u001b[38;5;124mf\u001b[39m\u001b[38;5;124m\"\u001b[39m\u001b[38;5;132;01m{\u001b[39;00mx\u001b[38;5;241m+\u001b[39m\u001b[38;5;241m1\u001b[39m\u001b[38;5;132;01m:\u001b[39;00m\u001b[38;5;124m^10\u001b[39m\u001b[38;5;132;01m}\u001b[39;00m\u001b[38;5;132;01m{\u001b[39;00mtemps[x]\u001b[38;5;132;01m:\u001b[39;00m\u001b[38;5;124m^10\u001b[39m\u001b[38;5;132;01m}\u001b[39;00m\u001b[38;5;132;01m{\u001b[39;00myt[x]\u001b[38;5;132;01m:\u001b[39;00m\u001b[38;5;124m^20\u001b[39m\u001b[38;5;132;01m}\u001b[39;00m\u001b[38;5;132;01m{\u001b[39;00mresiduals[x]\u001b[38;5;132;01m:\u001b[39;00m\u001b[38;5;124m^30\u001b[39m\u001b[38;5;132;01m}\u001b[39;00m\u001b[38;5;132;01m{\u001b[39;00mBigX[x]\u001b[38;5;132;01m:\u001b[39;00m\u001b[38;5;124m^22\u001b[39m\u001b[38;5;132;01m}\u001b[39;00m\u001b[38;5;124m\"\u001b[39m)\n\u001b[1;32m     59\u001b[0m     \u001b[38;5;28;01mreturn\u001b[39;00m(header, func)\n\u001b[0;32m---> 61\u001b[0m \u001b[43mprint_data\u001b[49m\u001b[43m(\u001b[49m\u001b[43m)\u001b[49m\n\u001b[1;32m     64\u001b[0m \u001b[38;5;28;01mdef\u001b[39;00m \u001b[38;5;21mplt_ts\u001b[39m():\n\u001b[1;32m     65\u001b[0m     days\u001b[38;5;241m=\u001b[39m[]\n",
      "Cell \u001b[0;32mIn[46], line 58\u001b[0m, in \u001b[0;36mprint_data\u001b[0;34m()\u001b[0m\n\u001b[1;32m     56\u001b[0m header \u001b[38;5;241m=\u001b[39m \u001b[38;5;28mprint\u001b[39m(\u001b[38;5;124mf\u001b[39m\u001b[38;5;124m\"\u001b[39m\u001b[38;5;132;01m{\u001b[39;00m\u001b[38;5;124m'\u001b[39m\u001b[38;5;124mDays\u001b[39m\u001b[38;5;124m'\u001b[39m\u001b[38;5;132;01m:\u001b[39;00m\u001b[38;5;124m^10\u001b[39m\u001b[38;5;132;01m}\u001b[39;00m\u001b[38;5;132;01m{\u001b[39;00m\u001b[38;5;124m'\u001b[39m\u001b[38;5;124mTemp(°F)\u001b[39m\u001b[38;5;124m'\u001b[39m\u001b[38;5;132;01m:\u001b[39;00m\u001b[38;5;124m^10\u001b[39m\u001b[38;5;132;01m}\u001b[39;00m\u001b[38;5;132;01m{\u001b[39;00m\u001b[38;5;124m'\u001b[39m\u001b[38;5;124mPre-fit Model Values (°F)\u001b[39m\u001b[38;5;124m'\u001b[39m\u001b[38;5;132;01m:\u001b[39;00m\u001b[38;5;124m^28\u001b[39m\u001b[38;5;132;01m}\u001b[39;00m\u001b[38;5;132;01m{\u001b[39;00m\u001b[38;5;124m'\u001b[39m\u001b[38;5;124mResidual Times\u001b[39m\u001b[38;5;124m'\u001b[39m\u001b[38;5;132;01m:\u001b[39;00m\u001b[38;5;124m^20\u001b[39m\u001b[38;5;132;01m}\u001b[39;00m\u001b[38;5;132;01m{\u001b[39;00m\u001b[38;5;124m'\u001b[39m\u001b[38;5;124mBigX\u001b[39m\u001b[38;5;124m'\u001b[39m\u001b[38;5;132;01m:\u001b[39;00m\u001b[38;5;124m^25\u001b[39m\u001b[38;5;132;01m}\u001b[39;00m\u001b[38;5;124m\"\u001b[39m)\n\u001b[1;32m     57\u001b[0m \u001b[38;5;28;01mfor\u001b[39;00m x \u001b[38;5;129;01min\u001b[39;00m \u001b[38;5;28mrange\u001b[39m(\u001b[38;5;241m365\u001b[39m):\n\u001b[0;32m---> 58\u001b[0m     func \u001b[38;5;241m=\u001b[39m \u001b[38;5;28mprint\u001b[39m(\u001b[38;5;124mf\u001b[39m\u001b[38;5;124m\"\u001b[39m\u001b[38;5;132;01m{\u001b[39;00mx\u001b[38;5;241m+\u001b[39m\u001b[38;5;241m1\u001b[39m\u001b[38;5;132;01m:\u001b[39;00m\u001b[38;5;124m^10\u001b[39m\u001b[38;5;132;01m}\u001b[39;00m\u001b[38;5;132;01m{\u001b[39;00mtemps[x]\u001b[38;5;132;01m:\u001b[39;00m\u001b[38;5;124m^10\u001b[39m\u001b[38;5;132;01m}\u001b[39;00m\u001b[38;5;132;01m{\u001b[39;00myt[x]\u001b[38;5;132;01m:\u001b[39;00m\u001b[38;5;124m^20\u001b[39m\u001b[38;5;132;01m}\u001b[39;00m\u001b[38;5;132;01m{\u001b[39;00mresiduals[x]\u001b[38;5;132;01m:\u001b[39;00m\u001b[38;5;124m^30\u001b[39m\u001b[38;5;132;01m}\u001b[39;00m\u001b[38;5;132;01m{\u001b[39;00m\u001b[43mBigX\u001b[49m\u001b[43m[\u001b[49m\u001b[43mx\u001b[49m\u001b[43m]\u001b[49m\u001b[38;5;132;01m:\u001b[39;00m\u001b[38;5;124m^22\u001b[39m\u001b[38;5;132;01m}\u001b[39;00m\u001b[38;5;124m\"\u001b[39m)\n\u001b[1;32m     59\u001b[0m \u001b[38;5;28;01mreturn\u001b[39;00m(header, func)\n",
      "\u001b[0;31mIndexError\u001b[0m: index 3 is out of bounds for axis 0 with size 3"
     ]
    }
   ],
   "source": [
    "import math\n",
    "import numpy as np\n",
    "import matplotlib.pyplot as plt\n",
    "\n",
    "def read_text(file):\n",
    "    f = open(file, 'r')  # open the file and save it in the variable f\n",
    "    text = f.read().splitlines() # read the file\n",
    "    f.close()          \n",
    "    return text\n",
    "    \n",
    "file = open (r'nyc_data.txt', 'r')\n",
    "f = file.readlines()\n",
    "temps= []\n",
    "for line in f:\n",
    "        temps.append(line[:-1])\n",
    "temps_float = []\n",
    "for i in range(1,366):\n",
    "    temp = float(temps[i-1])\n",
    "    temps_float.append(temp)\n",
    "\n",
    "\n",
    "   \n",
    "    \n",
    "def lsq_fit():\n",
    "    period=365\n",
    "    y_offset=55\n",
    "    amplitude=25\n",
    "    time_offset=200\n",
    "    yt=[]\n",
    "    list_2=[]\n",
    "    list_3=[]\n",
    "    x1=np.ones(365)\n",
    "    for t in range(1,366):\n",
    "        y_time=y_offset+amplitude*math.cos(2*math.pi*(t-time_offset)/period)\n",
    "        yt.append(y_time)\n",
    "        t_2 = math.cos((math.pi*2)*t/365)\n",
    "        t_3 = math.sin((math.pi*2)*t/365)\n",
    "        list_2.append(t_2)\n",
    "        list_3.append(t_3)\n",
    "    A = np.array([x1,list_2,list_3])\n",
    "    A_t = A.transpose()\n",
    "    BigX = ((np.linalg.inv(A@A_t))@(A@temps_float))\n",
    "    \n",
    "    \n",
    "    \n",
    "    \n",
    "        \n",
    "    residuals=[]\n",
    "    for i in range(1,366):\n",
    "        res=yt[i-1]-temps_float[i-1]\n",
    "        residuals.append(res)\n",
    "    return (yt ,residuals,BigX)\n",
    "(yt,residuals,BigX)=lsq_fit()\n",
    "\n",
    "def print_data():\n",
    "    header = print(f\"{'Days':^10}{'Temp(°F)':^10}{'Pre-fit Model Values (°F)':^28}{'Residual Times':^20}{'BigX':^25}\")\n",
    "    for x in range(365):\n",
    "        func = print(f\"{x+1:^10}{temps[x]:^10}{yt[x]:^20}{residuals[x]:^30}{BigX[x]:^22}\")\n",
    "    return(header, func)\n",
    "\n",
    "print_data()\n",
    "\n",
    "\n",
    "def plt_ts():\n",
    "    days=[]\n",
    "    for x in range(365):\n",
    "        days.append(x+1)\n",
    "    fig,axs=plt.subplots(2)\n",
    "    axs[0].set_ylim([-10, 100])\n",
    "    axs[0].set_xlim([1,365])\n",
    "    axs[0].plot(days,temps_float,label='observations')\n",
    "    axs[0].plot(days,yt,label='pre-fit model values')\n",
    "    axs[0].legend(loc='upper right')\n",
    "    axs[0].set_title('Observations vs. Pre-Fit Model Values')\n",
    "    axs[0].set(ylabel='Temperature(°F)',yticks=(np.arange(0, 100, 10)),xlabel='Days of Year')\n",
    "    axs[1].plot(residuals)\n",
    "    axs[1].set_title('Residual Times')\n",
    "    axs[1].set(xlabel='Days of Year',ylabel='Temperature(°F)')\n",
    "    fig.tight_layout(pad=2.0)\n",
    "    return(plt.show())\n",
    "\n",
    "plt_ts()"
   ]
  },
  {
   "cell_type": "code",
   "execution_count": 5,
   "id": "bafbf4cd-210a-4df0-b067-fb31ee6e398a",
   "metadata": {},
   "outputs": [
    {
     "data": {
      "image/png": "[encoded data removed]",
      "text/plain": [
       "<Figure size 640x480 with 1 Axes>"
      ]
     },
     "metadata": {},
     "output_type": "display_data"
    }
   ],
   "source": [
    "import netCDF4 as nc\n",
    "import numpy   as np\n",
    "import matplotlib.pyplot as plt\n",
    "\n",
    "file_name = 'ERA5_SAT_195901-202112.nc'\n",
    "\n",
    "def read_netcdf():\n",
    "    root = nc.Dataset(file_name, 'r')\n",
    "    gl_att = root.ncattrs()\n",
    "    sat_attr = root['SAT'].ncattrs()\n",
    "    variables = root.variables\n",
    "    SAT_LatLong = np.array(root['SAT'][:,131,286])\n",
    "    return (SAT_LatLong)\n",
    "    \n",
    "read_netcdf()\n",
    "a = read_netcdf()\n",
    "\n",
    "\n",
    "def time_series():\n",
    "\n",
    "    root = nc.Dataset(file_name, 'r')\n",
    "    gl_att = root.ncattrs()\n",
    "    sat_attr = root['SAT'].ncattrs()\n",
    "    variables = root.variables\n",
    "    Months = np.array(root['SAT'][:,131,286])\n",
    "    average_SAT = np.zeros(63) \n",
    "    for i in range (0,63):\n",
    "        annual= np.array(root['SAT'][i*12:i*12+12,131,286])\n",
    "        average_SAT[i] = np.mean(annual)\n",
    "    return average_SAT\n",
    "\n",
    "\n",
    "\n",
    "def plot_hist():\n",
    "    annual_SAT_K = time_series()   \n",
    "    annual_SAT_F = (annual_SAT_K-273.15)*1.8+32\n",
    "    p = plt.hist(annual_SAT_F,bins=11, edgecolor='black')\n",
    "    plt.ylabel(\"Probability Density\")\n",
    "    plt.xlabel(\"Surface Air Temperature (SAT) (°F)\")\n",
    "    plt.title(\"Probability Function of Annual-mean SAT for NYC Central Park\")\n",
    "\n",
    "    return plt.show(p)\n",
    "\n",
    "plot_hist()\n"
   ]
  },
  {
   "cell_type": "code",
   "execution_count": 16,
   "id": "f426d850-e45c-4935-960b-bbc0bd8f0a31",
   "metadata": {},
   "outputs": [
    {
     "ename": "ValueError",
     "evalue": "setting an array element with a sequence. The requested array has an inhomogeneous shape after 1 dimensions. The detected shape was (3,) + inhomogeneous part.",
     "output_type": "error",
     "traceback": [
      "\u001b[0;31m---------------------------------------------------------------------------\u001b[0m",
      "\u001b[0;31mValueError\u001b[0m                                Traceback (most recent call last)",
      "Cell \u001b[0;32mIn[16], line 9\u001b[0m\n\u001b[1;32m      7\u001b[0m t_2 \u001b[38;5;241m=\u001b[39m ((math\u001b[38;5;241m.\u001b[39mcos)(math\u001b[38;5;241m.\u001b[39mpi\u001b[38;5;241m*\u001b[39m\u001b[38;5;241m2\u001b[39m))\u001b[38;5;241m*\u001b[39mt\u001b[38;5;241m/\u001b[39m\u001b[38;5;241m365\u001b[39m\n\u001b[1;32m      8\u001b[0m t_3 \u001b[38;5;241m=\u001b[39m ((math\u001b[38;5;241m.\u001b[39msin)(math\u001b[38;5;241m.\u001b[39mpi\u001b[38;5;241m*\u001b[39m\u001b[38;5;241m2\u001b[39m))\u001b[38;5;241m*\u001b[39mt\u001b[38;5;241m/\u001b[39m\u001b[38;5;241m365\u001b[39m\n\u001b[0;32m----> 9\u001b[0m A \u001b[38;5;241m=\u001b[39m \u001b[43mnp\u001b[49m\u001b[38;5;241;43m.\u001b[39;49m\u001b[43marray\u001b[49m\u001b[43m(\u001b[49m\u001b[43m[\u001b[49m\u001b[43mx1\u001b[49m\u001b[43m,\u001b[49m\u001b[43mt_2\u001b[49m\u001b[43m,\u001b[49m\u001b[43mt_3\u001b[49m\u001b[43m]\u001b[49m\u001b[43m)\u001b[49m\n\u001b[1;32m     10\u001b[0m \u001b[38;5;28mprint\u001b[39m(A)\n",
      "\u001b[0;31mValueError\u001b[0m: setting an array element with a sequence. The requested array has an inhomogeneous shape after 1 dimensions. The detected shape was (3,) + inhomogeneous part."
     ]
    }
   ],
   "source": [
    "import math\n",
    "\n",
    "\n",
    "for t in range(1,365):\n",
    "    T = 364\n",
    "    x1 = np.ones(364)\n",
    "    t_2 = ((math.cos)(math.pi*2))*t/365\n",
    "    t_3 = ((math.sin)(math.pi*2))*t/365\n",
    "    A = np.array([x1,t_2,t_3])\n",
    "    print(A)\n"
   ]
  },
  {
   "cell_type": "code",
   "execution_count": null,
   "id": "83db7e86",
   "metadata": {},
   "outputs": [],
   "source": []
  },
  {
   "cell_type": "code",
   "execution_count": null,
   "id": "669b8884-d968-4a72-8572-bb7101efc13c",
   "metadata": {},
   "outputs": [],
   "source": []
  },
  {
   "cell_type": "code",
   "execution_count": null,
   "id": "71feec66-6029-4673-b7e8-43ed8adbf677",
   "metadata": {},
   "outputs": [],
   "source": []
  }
 ],
 "metadata": {
  "kernelspec": {
   "display_name": "susci",
   "language": "python",
   "name": "susci"
  },
  "language_info": {
   "codemirror_mode": {
    "name": "ipython",
    "version": 3
   },
   "file_extension": ".py",
   "mimetype": "text/x-python",
   "name": "python",
   "nbconvert_exporter": "python",
   "pygments_lexer": "ipython3",
   "version": "3.11.7"
  }
 },
 "nbformat": 4,
 "nbformat_minor": 5
}
